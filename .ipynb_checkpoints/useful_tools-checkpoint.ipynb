{
 "cells": [
  {
   "cell_type": "code",
   "execution_count": 2,
   "id": "15033813",
   "metadata": {},
   "outputs": [],
   "source": [
    "import os\n",
    "feet_in_mile=5820\n",
    "meter_in_kilometer=1000\n",
    "\n",
    "def get_file_extension(filename):\n",
    "    return os.path.splitext(filename)[1]"
   ]
  },
  {
   "cell_type": "code",
   "execution_count": null,
   "id": "8881b8fe",
   "metadata": {},
   "outputs": [],
   "source": []
  }
 ],
 "metadata": {
  "kernelspec": {
   "display_name": "Python 3 (ipykernel)",
   "language": "python",
   "name": "python3"
  },
  "language_info": {
   "codemirror_mode": {
    "name": "ipython",
    "version": 3
   },
   "file_extension": ".py",
   "mimetype": "text/x-python",
   "name": "python",
   "nbconvert_exporter": "python",
   "pygments_lexer": "ipython3",
   "version": "3.9.12"
  }
 },
 "nbformat": 4,
 "nbformat_minor": 5
}
