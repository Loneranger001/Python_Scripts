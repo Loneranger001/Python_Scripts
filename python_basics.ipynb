{
 "cells": [
  {
   "cell_type": "code",
   "execution_count": 8,
   "id": "56e04d7b",
   "metadata": {},
   "outputs": [
    {
     "name": "stdout",
     "output_type": "stream",
     "text": [
      "The name of the charafter is John\n",
      "The name of the charafter is John and his age was 35\n"
     ]
    }
   ],
   "source": [
    "character_name=\"John\"\n",
    "print(\"The name of the charafter is \" + character_name)\n",
    "character_age=\"35\"\n",
    "\n",
    "print(\"The name of the charafter is \" + character_name + \" and his age was \" + character_age)"
   ]
  },
  {
   "cell_type": "code",
   "execution_count": null,
   "id": "13d53b6c",
   "metadata": {},
   "outputs": [],
   "source": [
    "# getting input from a user\n",
    "\n",
    "age=input(\"What is your age \")\n",
    "name=input(\"What is your name \")\n",
    "print(\"Your name is \" + name + \" and your age is \" + age)\n",
    "\n"
   ]
  },
  {
   "cell_type": "code",
   "execution_count": 4,
   "id": "6d5649fc",
   "metadata": {},
   "outputs": [
    {
     "name": "stdout",
     "output_type": "stream",
     "text": [
      "Please enter a number 12.6\n",
      "Please enter a number 13.8\n",
      "26.4\n"
     ]
    }
   ],
   "source": [
    "# building a calculator\n",
    "\n",
    "num1=input(\"Please enter a number \")\n",
    "num2=input(\"Please enter a number \")\n",
    "result=float(num1)+float(num2)\n",
    "print(result)\n",
    "# print(\"The summation of the numbers are \" + result)\n",
    "\n"
   ]
  },
  {
   "cell_type": "code",
   "execution_count": 5,
   "id": "d640618e",
   "metadata": {},
   "outputs": [
    {
     "name": "stdout",
     "output_type": "stream",
     "text": [
      "Choose a color :Magenta\n",
      "Choose a plural noun :Microwaves\n",
      "Choose a celebrity :Tom Hanks\n",
      "Roses are Magenta\n",
      "Microwaves are blue\n",
      "I love Tom Hanks\n"
     ]
    }
   ],
   "source": [
    "# mad libs game\n",
    "color=input(\"Choose a color :\")\n",
    "plural_noun=input(\"Choose a plural noun :\")\n",
    "celebrity=input(\"Choose a celebrity :\")\n",
    "\n",
    "print(\"Roses are \" + color)\n",
    "print(plural_noun +\" are blue\")\n",
    "print(\"I love \" + celebrity)\n",
    "\n"
   ]
  },
  {
   "cell_type": "code",
   "execution_count": 11,
   "id": "cd3bbb9a",
   "metadata": {},
   "outputs": [
    {
     "name": "stdout",
     "output_type": "stream",
     "text": [
      "['Kevin', 'Jim', 'Alpha', 12, 'Jinay', 'Asfakul', 'Beta']\n",
      "['Kevin', 'Jim-Replaced', 'Alpha', 12, 'Jinay', 'Asfakul', 'Beta']\n",
      "['Kevin', 'Jim-Replaced', 'Alpha', 12, 'Jinay', 'Asfakul', 'Beta', 1, 2, 3, 4, 34]\n",
      "['Kevin', 'Jim-Replaced', 'Alpha', 12, 'Jinay', 'Asfakul', 'Beta', 1, 2, 3, 4, 34, 'Appended Number']\n",
      "['Inserted', 'Kevin', 'Jim-Replaced', 'Alpha', 12, 'Jinay', 'Asfakul', 'Beta', 1, 2, 3, 4, 34, 'Appended Number']\n",
      "['Inserted', 'Kevin', 'Jim-Replaced', 'Alpha', 'Jinay', 'Asfakul', 'Beta', 1, 2, 3, 4, 34, 'Appended Number']\n",
      "3\n",
      "['Inserted', 'Kevin', 'Jim-Replaced', 'Alpha', 'Jinay', 'Asfakul', 'Beta', 1, 2, 3, 4, 34, 'Appended Number', 'NEW LIST']\n",
      "[]\n"
     ]
    }
   ],
   "source": [
    "# list\n",
    "\n",
    "friends=[\"Kevin\",\"Jim\",\"Alpha\",12,\"Jinay\",\"Asfakul\"]\n",
    "friends.append(\"Beta\")\n",
    "\n",
    "print(friends)\n",
    "\n",
    "# for f in friends:\n",
    "#     print(f)\n",
    "    \n",
    "# print(friends[1:])\n",
    "# print(friends[1:3]) # from index 1 to 3\n",
    "# print(friends[-1]) # from reverse\n",
    "\n",
    "# modify an element\n",
    "friends[1]=\"Jim-Replaced\"\n",
    "print(friends)\n",
    "lucky_numbers=[1,2,3,4,34]\n",
    "# it appends the elements at the end\n",
    "friends.extend(lucky_numbers)\n",
    "#extended list\n",
    "print(friends)\n",
    "friends.append(\"Appended Number\")\n",
    "print(friends)\n",
    "# insert in the middle\n",
    "friends.insert(0,\"Inserted\")\n",
    "print(friends)\n",
    "\n",
    "# remove element 1\n",
    "friends.remove(12)\n",
    "print(friends)\n",
    "\n",
    "#get the index \n",
    "print(friends.index(\"Alpha\"))\n",
    "\n",
    "\n",
    "# copy a list\n",
    "\n",
    "friends2=friends.copy()\n",
    "friends2.append(\"NEW LIST\")\n",
    "print(friends2)\n",
    "\n",
    "# clear the list\n",
    "friends.clear()\n",
    "print(friends)\n",
    "\n",
    "\n",
    "\n"
   ]
  },
  {
   "cell_type": "code",
   "execution_count": 10,
   "id": "583fea21",
   "metadata": {},
   "outputs": [
    {
     "name": "stdout",
     "output_type": "stream",
     "text": [
      "asfakul\n",
      "laskar\n",
      "4\n",
      "5\n",
      "(1, 2)\n",
      "(3, 4)\n"
     ]
    }
   ],
   "source": [
    "# tuples\n",
    "# tuples are immutable, once created itis final\n",
    "coordinate=(4,5)\n",
    "names=(\"asfakul\",\"laskar\")\n",
    "print(names[0])\n",
    "print(names[1])\n",
    "print(coordinate[0])\n",
    "print(coordinate[1])\n",
    "#illegal\n",
    "# coordinates[0] = 8\n",
    "coordinates=[(1,2),(3,4),(7,8)]\n",
    "\n",
    "print(coordinates[0])\n",
    "print(coordinates[1])"
   ]
  },
  {
   "cell_type": "code",
   "execution_count": 11,
   "id": "aa6e0bb8",
   "metadata": {},
   "outputs": [
    {
     "name": "stdout",
     "output_type": "stream",
     "text": [
      "Say Hello Mike\n",
      "64\n"
     ]
    }
   ],
   "source": [
    "# functions\n",
    "def say_hi(name):\n",
    "    print(\"Say Hello \" +name)\n",
    "    \n",
    "say_hi(\"Mike\")\n",
    "\n",
    "# return statement\n",
    "def cube(number):\n",
    "    return number*number*number\n",
    "\n",
    "result=cube(4)\n",
    "print(result)"
   ]
  },
  {
   "cell_type": "code",
   "execution_count": 13,
   "id": "17d469e6",
   "metadata": {},
   "outputs": [
    {
     "name": "stdout",
     "output_type": "stream",
     "text": [
      "you are neither tall nor male\n"
     ]
    }
   ],
   "source": [
    "#if else\n",
    "is_tall=False\n",
    "is_male=False\n",
    "\n",
    "if is_tall or is_male:\n",
    "    print(\"you are either male or tall\")\n",
    "else:\n",
    "    print(\"you are neither tall nor male\")\n"
   ]
  },
  {
   "cell_type": "code",
   "execution_count": 23,
   "id": "1920634e",
   "metadata": {},
   "outputs": [
    {
     "name": "stdout",
     "output_type": "stream",
     "text": [
      "Please enter a number: 10\n",
      "Please enter the operator: N\n",
      "Please enter a number: 12\n",
      "Invalid operation\n"
     ]
    }
   ],
   "source": [
    "# Building a better computer\n",
    "\n",
    "num1=float(input(\"Please enter a number: \"))\n",
    "op=input(\"Please enter the operator: \")\n",
    "num2=float(input(\"Please enter a number: \"))\n",
    "\n",
    "if (op == \"+\"):\n",
    "    result = (num1+num2)\n",
    "    print(\"Summation :\" + str(result))\n",
    "elif (op == \"*\"):\n",
    "    result = (num1*num2)\n",
    "    print(\"Multiplication :\" + str(result))\n",
    "elif (op == \"-\"):\n",
    "    result = (num1-num2)\n",
    "    print(\"Substraction :\" + str(result))\n",
    "elif (op == \"/\"):\n",
    "    result = (num1/num2)\n",
    "    print(\"Division :\" + str(result))\n",
    "else:\n",
    "    print(\"Invalid operation\")\n",
    "    \n"
   ]
  },
  {
   "cell_type": "code",
   "execution_count": 1,
   "id": "08e9f3a7",
   "metadata": {},
   "outputs": [
    {
     "name": "stdout",
     "output_type": "stream",
     "text": [
      "April\n",
      "Not a valid value\n"
     ]
    }
   ],
   "source": [
    "# Dictioneries\n",
    "\n",
    "monthConversions ={\n",
    "    \"Jan\":\"January\",\n",
    "    \"Feb\":\"February\",\n",
    "    \"Mar\":\"March\",\n",
    "    \"Apr\":\"April\",\n",
    "    \"May\":\"May\",\n",
    "    \"Jun\":\"June\"\n",
    "}\n",
    "print(monthConversions.get(\"Apr\",\"Not a valid value\"))\n",
    "print(monthConversions.get(\"June\",\"Not a valid value\"))\n"
   ]
  },
  {
   "cell_type": "code",
   "execution_count": 1,
   "id": "2186a183",
   "metadata": {},
   "outputs": [
    {
     "name": "stdout",
     "output_type": "stream",
     "text": [
      "Capital of India is Delhi\n",
      "Capital of Turkey is Istanbul\n"
     ]
    }
   ],
   "source": [
    "familynames = {\n",
    "    \"India\":\"Delhi\",\n",
    "    \"Turkey\":\"Istanbul\"\n",
    "}\n",
    "# print(familynames[\"Asfakul\"])\n",
    "# print(familynames.get(\"Asfakul\"))\n",
    "\n",
    "for k in familynames.keys():\n",
    "    print(\"Capital of \"+ k + \" is \" + familynames.get(k))\n"
   ]
  },
  {
   "cell_type": "code",
   "execution_count": 3,
   "id": "1fb7f738",
   "metadata": {},
   "outputs": [
    {
     "name": "stdout",
     "output_type": "stream",
     "text": [
      "Guess :keys\n",
      "Guess :key\n",
      "You Won\n"
     ]
    }
   ],
   "source": [
    "#guessing game\n",
    "\n",
    "guess_count=0\n",
    "guess_limit=3\n",
    "out_of_guess=False\n",
    "user_input=\"\"\n",
    "secret_word=\"key\"\n",
    "\n",
    "while (secret_word != user_input) and not(out_of_guess):\n",
    "    if (guess_count < guess_limit):\n",
    "        user_input=input(\"Guess :\")\n",
    "        guess_count += 1\n",
    "    else:\n",
    "        out_of_guess = True\n",
    "\n",
    "if (out_of_guess):\n",
    "    print(\"You are out of guesses, You LOSE\")\n",
    "else:\n",
    "    print(\"You Won\")\n",
    "    \n",
    "    "
   ]
  },
  {
   "cell_type": "code",
   "execution_count": 10,
   "id": "bf75172a",
   "metadata": {},
   "outputs": [
    {
     "name": "stdout",
     "output_type": "stream",
     "text": [
      "Tom\n",
      "Dick\n",
      "Harry\n",
      "1\n",
      "2\n",
      "3\n",
      "4\n",
      "5\n",
      "6\n",
      "7\n",
      "8\n",
      "9\n"
     ]
    }
   ],
   "source": [
    "#For loops\n",
    "# for letter in \"Giraffe Academy\":\n",
    "#     print(letter)\n",
    "# range starts from 0    \n",
    "friends = [\"Tom\",\"Dick\",\"Harry\"]\n",
    "len(friends)\n",
    "type(friends)\n",
    "for index in range(len(friends)):\n",
    "    print(friends[index])\n",
    "\n",
    "for index in range(1,10):\n",
    "    print(index)\n",
    "\n",
    "\n",
    "    "
   ]
  },
  {
   "cell_type": "code",
   "execution_count": 21,
   "id": "5f42ad97",
   "metadata": {},
   "outputs": [
    {
     "name": "stdout",
     "output_type": "stream",
     "text": [
      "8\n"
     ]
    }
   ],
   "source": [
    "#raise to power\n",
    "\n",
    "def raise_to_power(base_num,pow_num):\n",
    "    result=1\n",
    "    for i in range(pow_num):\n",
    "        result= result*base_num\n",
    "    return result\n",
    "        \n",
    "result=raise_to_power(2,3)\n",
    "print(result)"
   ]
  },
  {
   "cell_type": "code",
   "execution_count": 30,
   "id": "7b418288",
   "metadata": {
    "scrolled": true
   },
   "outputs": [
    {
     "name": "stdout",
     "output_type": "stream",
     "text": [
      "3\n",
      "9\n",
      "1\n",
      "2\n",
      "3\n",
      "4\n",
      "5\n",
      "6\n",
      "7\n",
      "8\n",
      "9\n",
      "0\n"
     ]
    }
   ],
   "source": [
    "# 2D list\n",
    "\n",
    "number_grid=[\n",
    "    [1,2,3],\n",
    "    [4,5,6],\n",
    "    [7,8,9],\n",
    "    [0]   \n",
    "]\n",
    "\n",
    "print(number_grid[0][2])\n",
    "print(number_grid[2][2])\n",
    "\n",
    "# for loop for printing 2D lists\n",
    "\n",
    "# for i in range(len(number_grid)):\n",
    "#     for j in range(len(number_grid[i])):\n",
    "#         print(number_grid[i][j])\n",
    "\n",
    "for row in number_grid:\n",
    "    for col in row:\n",
    "        print(col)"
   ]
  },
  {
   "cell_type": "code",
   "execution_count": 8,
   "id": "b7d7cdf9",
   "metadata": {},
   "outputs": [
    {
     "name": "stdout",
     "output_type": "stream",
     "text": [
      "gn\n"
     ]
    }
   ],
   "source": [
    "# basic transalation\n",
    "# vowels --> g\n",
    "# dog --> dgg\n",
    "# cat --> cgt\n",
    "\n",
    "vowels=[\"a\",\"e\",\"i\",\"o\",\"u\",\"A\",\"E\",\"I\",\"O\",\"U\"]\n",
    "words=[\"dog\",\"cat\"]\n",
    "\n",
    "# print(vowels.count(\"A\"))\n",
    "\n",
    "\n",
    "def translator(word):\n",
    "    translated_word=[]\n",
    "    for char in word:\n",
    "        if vowels.count(char) > 0:\n",
    "            if char.islower():\n",
    "                translated_word.append(\"g\")\n",
    "            else:\n",
    "                translated_word.append(\"G\")\n",
    "        else:\n",
    "            translated_word.append(char)\n",
    "    return ''.join(translated_word)\n",
    "\n",
    "translated_word= translator(\"on\")\n",
    "print(translated_word)\n",
    "            \n",
    "            \n",
    "\n",
    "\n",
    "\n"
   ]
  },
  {
   "cell_type": "code",
   "execution_count": 3,
   "id": "9f18cd87",
   "metadata": {},
   "outputs": [
    {
     "name": "stdout",
     "output_type": "stream",
     "text": [
      "division by zero\n"
     ]
    }
   ],
   "source": [
    "# Try Except Block\n",
    "try:\n",
    "    value=10/0\n",
    "    number = int(input(\"Please enter a number: \"))\n",
    "    print(number)\n",
    "except ZeroDivisionError as err:\n",
    "    print(err)\n",
    "except ValueError as err:\n",
    "    print(err)\n"
   ]
  },
  {
   "cell_type": "code",
   "execution_count": 2,
   "id": "4552321c",
   "metadata": {},
   "outputs": [
    {
     "name": "stdout",
     "output_type": "stream",
     "text": [
      "Jim - SalesMan\n",
      "\n",
      "Kim - Programmer\n",
      "\n",
      "Kelly - Cook\n",
      "\n",
      "Tim - HumanResources\n",
      "\n",
      "Kellerman - Programmer\n",
      "\n",
      "Andy - Gardener\n",
      "\n",
      "Andy - Gardener\n"
     ]
    }
   ],
   "source": [
    "#append\n",
    "employee_file=open(\"employee.txt\",\"r\")\n",
    "# reads 1 line at a time\n",
    "# print(employee_file.readline())\n",
    "# print(employee_file.readline())\n",
    "# for employee in employee_file.readlines():\n",
    "#     print(employee)\n",
    "\n",
    "for employee in employee_file.readlines():\n",
    "    print(employee)\n",
    "\n",
    "# employee_file.write(\"\\nAndy - Gardener\")\n",
    "\n",
    "employee_file.close()\n",
    "\n",
    "#overwrite\n",
    "# employer_file=open(\"employer.txt\",\"w\")\n",
    "# # reads 1 line at a time\n",
    "# # print(employee_file.readline())\n",
    "# # print(employee_file.readline())\n",
    "# # for employee in employee_file.readlines():\n",
    "# #     print(employee)\n",
    "\n",
    "# employer_file.write(\"\\nGoogle - TechCompany\")\n",
    "# employer_file.write(\"\\nApple - TechCompany\")\n",
    "# employer_file.close()\n"
   ]
  },
  {
   "cell_type": "code",
   "execution_count": 3,
   "id": "fd63f010",
   "metadata": {},
   "outputs": [
    {
     "name": "stdout",
     "output_type": "stream",
     "text": [
      "What color is an Apple ? \n",
      " a) Red/Green \n",
      " b) Magenta \n",
      "\n",
      "a\n",
      "What color is a Cherry ? \n",
      " a) Red \n",
      " b) Green \n",
      "\n",
      "b\n",
      "You have answered 1 correctly out of 2 questions.\n"
     ]
    }
   ],
   "source": [
    "# Question/Answer Game\n",
    "question_prompts=[\"What color is an Apple ? \\n a) Red/Green \\n b) Magenta \\n\\n\",\n",
    "                  \"What color is a Cherry ? \\n a) Red \\n b) Green \\n\\n\"\n",
    "                 ]\n",
    "    \n",
    "class Question:\n",
    "    def __init__(self,question,answer):\n",
    "        self.question=question\n",
    "        self.answer=answer\n",
    "\n",
    "questions = [\n",
    "        Question(question_prompts[0],\"a\"),\n",
    "        Question(question_prompts[1],\"a\")\n",
    "]\n",
    "\n",
    "def run_test(questions):\n",
    "    score=0\n",
    "    for question in questions:\n",
    "        answer= input(question.question)\n",
    "        if (answer == question.answer):\n",
    "            score += 1\n",
    "    print(\"You have answered \" + str(score) + \" correctly out of \" + str(len(questions)) + \" questions.\" )     \n",
    "    \n",
    "run_test(questions)"
   ]
  },
  {
   "cell_type": "code",
   "execution_count": 4,
   "id": "863dca72",
   "metadata": {},
   "outputs": [
    {
     "name": "stdout",
     "output_type": "stream",
     "text": [
      "True\n",
      "False\n"
     ]
    }
   ],
   "source": [
    "class Student:\n",
    "    def __init__(self,name,major,gpa):\n",
    "        self.name = name\n",
    "        self.major = major\n",
    "        self.gpa = gpa\n",
    "        \n",
    "    def on_honor_roll(self):\n",
    "        if self.gpa >= 3.5:\n",
    "            return True\n",
    "        else:\n",
    "            return False\n",
    "    \n",
    "student1= Student(\"A\",\"Science\",3.7)\n",
    "student2=Student(\"B\",\"Art\",3)\n",
    "print(student1.on_honor_roll())\n",
    "print(student2.on_honor_roll())"
   ]
  },
  {
   "cell_type": "code",
   "execution_count": null,
   "id": "0f11412b",
   "metadata": {},
   "outputs": [],
   "source": []
  }
 ],
 "metadata": {
  "kernelspec": {
   "display_name": "Python 3 (ipykernel)",
   "language": "python",
   "name": "python3"
  },
  "language_info": {
   "codemirror_mode": {
    "name": "ipython",
    "version": 3
   },
   "file_extension": ".py",
   "mimetype": "text/x-python",
   "name": "python",
   "nbconvert_exporter": "python",
   "pygments_lexer": "ipython3",
   "version": "3.9.12"
  }
 },
 "nbformat": 4,
 "nbformat_minor": 5
}
